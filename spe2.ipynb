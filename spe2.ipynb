{
  "nbformat": 4,
  "nbformat_minor": 0,
  "metadata": {
    "colab": {
      "provenance": [],
      "authorship_tag": "ABX9TyNkCQfivWzteIhYvjrDwTsH",
      "include_colab_link": true
    },
    "kernelspec": {
      "name": "python3",
      "display_name": "Python 3"
    },
    "language_info": {
      "name": "python"
    }
  },
  "cells": [
    {
      "cell_type": "markdown",
      "metadata": {
        "id": "view-in-github",
        "colab_type": "text"
      },
      "source": [
        "<a href=\"https://colab.research.google.com/github/populous/expcpp/blob/main/spe2.ipynb\" target=\"_parent\"><img src=\"https://colab.research.google.com/assets/colab-badge.svg\" alt=\"Open In Colab\"/></a>"
      ]
    },
    {
      "cell_type": "code",
      "execution_count": null,
      "metadata": {
        "id": "vSL8szWMzijJ"
      },
      "outputs": [],
      "source": [
        "\n",
        "import numpy as np\n",
        "import matplotlib.pyplot as plt\n",
        "\n",
        "# 물리적 파라미터 설정\n",
        "Lx, Ly = 10.0, 10.0  # 전체 영역 크기\n",
        "nx, ny = 40, 40  # 격자 크기\n",
        "dx, dy = Lx / nx, Ly / ny  # 격자 간격\n",
        "\n",
        "# 열전도 계수 및 구조 물성\n",
        "alpha = 0.01  # 열전도 계수\n",
        "E = 200e9  # 탄성 계수\n",
        "nu = 0.3  # 포아송 비율\n",
        "alpha_thermal = 1e-5  # 열팽창 계수\n",
        "\n",
        "# 초기 온도 및 구조 상태 설정\n",
        "T = np.zeros((ny, nx))  # 온도 배열\n",
        "T[ny//2, nx//2] = 100  # 중심에서 100도의 열이 시작됨\n",
        "\n",
        "displacement = np.zeros((ny, nx))  # 변위 배열\n",
        "\n",
        "# 경계 조건\n",
        "T[0, :] = 0  # 상단 경계\n",
        "T[-1, :] = 0  # 하단 경계\n",
        "T[:, 0] = 0  # 왼쪽 경계\n",
        "T[:, -1] = 0  # 오른쪽 경계\n",
        "\n",
        "# 서브도메인 분할 (열전도, 구조)\n",
        "subdomain_thermal = T[:, :nx//2]\n",
        "subdomain_structural = T[:, nx//2:]\n",
        "\n",
        "# 열전도 방정식의 라플라시안 계산\n",
        "def laplacian(T):\n",
        "    \"\"\"열전도 방정식의 라플라시안 연산\"\"\"\n",
        "    lap = np.zeros_like(T)\n",
        "    lap[1:-1, 1:-1] = (\n",
        "        T[2:, 1:-1] + T[:-2, 1:-1] +\n",
        "        T[1:-1, 2:] + T[1:-1, :-2] -\n",
        "        4 * T[1:-1, 1:-1]\n",
        "    )\n",
        "    return lap\n",
        "\n",
        "# 구조 방정식의 변형 계산 (기본적인 선형 해석)\n",
        "def calculate_displacement(T):\n",
        "    \"\"\"온도에 의한 구조물의 변형 계산\"\"\"\n",
        "    return alpha_thermal * E * T  # 단순화된 선형 모델 (온도에 의한 변형)\n",
        "\n",
        "# Steklov-Poincaré 방정식 적용 함수\n",
        "def spe(T1, T2, lambda_val):\n",
        "    \"\"\"\n",
        "    Steklov-Poincaré 방정식 적용 함수\n",
        "    경계에서의 온도값과 그 변화율을 맞추기 위해 사용\n",
        "    T1: 첫 번째 서브도메인 경계의 온도\n",
        "    T2: 두 번째 서브도메인 경계의 온도\n",
        "    lambda_val: 라그랑지 멀티플라이어 값\n",
        "    \"\"\"\n",
        "    # 경계에서의 값 차이를 맞추기 위한 조정\n",
        "    return T1 + lambda_val * (T2 - T1)\n",
        "\n",
        "# 시간 발전\n",
        "dt = 0.1  # 시간 간격\n",
        "t_max = 1.0  # 최대 시간\n",
        "n_steps = int(t_max / dt)\n",
        "\n",
        "lambda_val = 0.1  # 라그랑지 멀티플라이어 초기값\n",
        "\n",
        "# 시간 단계별로 계산\n",
        "for step in range(n_steps):\n",
        "    # 열전도 문제 해결\n",
        "    lap_thermal = laplacian(subdomain_thermal)\n",
        "    subdomain_thermal = subdomain_thermal + alpha * lap_thermal * dt\n",
        "\n",
        "    # 구조 문제 해결\n",
        "    displacement = calculate_displacement(subdomain_thermal)\n",
        "\n",
        "    # Steklov-Poincaré 방정식 적용을 통한 경계값 맞추기\n",
        "    subdomain_thermal[:, -1] = spe(subdomain_thermal[:, -1], subdomain_structural[:, 0], lambda_val)\n",
        "\n",
        "    # 전체 온도 배열에 업데이트된 값을 반영\n",
        "    T[:, :nx//2] = subdomain_thermal\n",
        "\n",
        "    # 결과 출력 (매 100 스텝마다 출력)\n",
        "    if step % 100 == 0:\n",
        "        plt.imshow(T, cmap='hot', interpolation='nearest')\n",
        "        plt.colorbar()\n",
        "        plt.title(f'Temperature Distribution at Step {step}')\n",
        "        plt.show()\n",
        "\n",
        "# 최종 온도 분포 출력\n",
        "plt.imshow(T, cmap='hot', interpolation='nearest')\n",
        "plt.colorbar()\n",
        "plt.title('Final Temperature Distribution')\n",
        "plt.show()\n",
        "\n",
        "# 변형 결과 출력\n",
        "plt.imshow(displacement, cmap='viridis', interpolation='nearest')\n",
        "plt.colorbar()\n",
        "plt.title('Structural Displacement')\n",
        "plt.show()"
      ]
    },
    {
      "cell_type": "code",
      "source": [],
      "metadata": {
        "id": "9gKxH05mzlJc"
      },
      "execution_count": null,
      "outputs": []
    }
  ]
}